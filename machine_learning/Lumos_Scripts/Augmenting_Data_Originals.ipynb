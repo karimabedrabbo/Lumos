{
 "cells": [
  {
   "cell_type": "code",
   "execution_count": 3,
   "metadata": {},
   "outputs": [
    {
     "name": "stderr",
     "output_type": "stream",
     "text": [
      "/Library/Frameworks/Python.framework/Versions/2.7/lib/python2.7/site-packages/h5py/__init__.py:36: FutureWarning: Conversion of the second argument of issubdtype from `float` to `np.floating` is deprecated. In future, it will be treated as `np.float64 == np.dtype(float).type`.\n",
      "  from ._conv import register_converters as _register_converters\n",
      "Using TensorFlow backend.\n"
     ]
    }
   ],
   "source": [
    "import imgaug as ia\n",
    "from imgaug import augmenters as iaa\n",
    "import numpy as np\n",
    "import sys\n",
    "import os\n",
    "import glob\n",
    "from keras.preprocessing import image\n",
    "import cv2\n",
    "from PIL import Image\n",
    "import matplotlib.pyplot as plt\n",
    "import matplotlib.cm as cm\n",
    "import scipy\n",
    "from scipy import misc\n",
    "import scipy.io"
   ]
  },
  {
   "cell_type": "code",
   "execution_count": 5,
   "metadata": {},
   "outputs": [],
   "source": [
    "def sort(path, im_type, backend):\n",
    "\n",
    "    images = glob.glob1(path,\"*.\" + str(im_type))\n",
    "    im_type_length = len(im_type) + 1\n",
    "    images = [element[:-im_type_length] for element in images]\n",
    "    images.sort(key=int)\n",
    "    images = [element + \".\" + str(im_type) for element in images]\n",
    "\n",
    "    if backend == \"keras\" or backend == \"Keras\" or backend == \"keras\":\n",
    "        images = [np.array(image.load_img(path + \"/\" + fname)) for fname in images]\n",
    "    if backend == \"opencv\" or backend == \"openCV\" or backend == \"OPENCV\" or backend == \"cv2\":\n",
    "        images = [np.array(cv2.imread(path + \"/\" + fname)) for fname in images]\n",
    "    if backend == \"PIL\" or backend == \"pil\":\n",
    "        images = [np.array(Image.open(path + \"/\" + fname)) for fname in images]\n",
    "    return images"
   ]
  },
  {
   "cell_type": "code",
   "execution_count": 6,
   "metadata": {},
   "outputs": [],
   "source": [
    "cropped_glauc = sort(path = \"/Users/karimabedrabbo/Desktop/Ipython_Notebooks_Aug/cropped_glauc\", im_type = \"png\", backend = \"keras\")\n",
    "cropped_not_glauc = sort(path = \"/Users/karimabedrabbo/Desktop/Ipython_Notebooks_Aug/cropped_not_glauc\", im_type = \"png\", backend = \"keras\")"
   ]
  },
  {
   "cell_type": "code",
   "execution_count": 7,
   "metadata": {},
   "outputs": [],
   "source": [
    "cropped_discs_glauc = sort(path = \"/Users/karimabedrabbo/Desktop/Ipython_Notebooks_Aug/cropped_glauc_discs_png\", im_type = \"png\", backend = \"keras\")\n",
    "cropped_discs_not_glauc = sort(path = \"/Users/karimabedrabbo/Desktop/Ipython_Notebooks_Aug/cropped_not_glauc_discs_png\", im_type = \"png\", backend = \"keras\")"
   ]
  },
  {
   "cell_type": "code",
   "execution_count": 8,
   "metadata": {},
   "outputs": [],
   "source": [
    "def save_images(aug_path, aug_imgs):\n",
    "    for i in range(len(aug_imgs)):\n",
    "        aug = misc.toimage(aug_imgs[i])\n",
    "        aug.save(aug_path + \"/\" + str(i + 1) + \".png\")"
   ]
  },
  {
   "cell_type": "code",
   "execution_count": 9,
   "metadata": {},
   "outputs": [],
   "source": [
    "def sort_list(path_list, im_type, backend):\n",
    "    final = []\n",
    "    for path in path_list:\n",
    "        final.append(sort(path, im_type, backend))\n",
    "    return final"
   ]
  },
  {
   "cell_type": "code",
   "execution_count": 10,
   "metadata": {},
   "outputs": [],
   "source": [
    "def multiple_image_numpy(imgs, rows, cols):\n",
    "    total = len(imgs)\n",
    "    new = np.ndarray((total, rows, cols, 3), dtype=np.uint8)\n",
    "\n",
    "    for i in range(total):\n",
    "        new[i] = imgs[i]\n",
    "    \n",
    "    return new\n"
   ]
  },
  {
   "cell_type": "code",
   "execution_count": 11,
   "metadata": {},
   "outputs": [],
   "source": [
    "def rgb2gray(rgb):\n",
    "\n",
    "    r, g, b = rgb[:,:,0], rgb[:,:,1], rgb[:,:,2]\n",
    "    gray = 0.2989 * r + 0.5870 * g + 0.1140 * b\n",
    "\n",
    "    return gray"
   ]
  },
  {
   "cell_type": "code",
   "execution_count": 12,
   "metadata": {},
   "outputs": [],
   "source": [
    "def get_rgb_medians(img, disc):\n",
    "    img = cv2.GaussianBlur(img,(5,5),0)\n",
    "    if (len(disc.shape) == 3):\n",
    "        disc = rgb2gray(disc)\n",
    "    img[disc == 0] = [0, 0, 0]\n",
    "    image = Image.fromarray(img).convert('RGB')\n",
    "    r = []\n",
    "    g = []\n",
    "    b = []\n",
    "    for i in range(img.shape[0]):\n",
    "        for j in range(img.shape[1]):\n",
    "            color = image.getpixel((i, j))\n",
    "            if not color[0] == 0: r.append(color[0])\n",
    "            if not color[0] == 0: g.append(color[1])\n",
    "            if not color[0] == 0: b.append(color[2])\n",
    "    r,g,b = np.median(r), np.median(g), np.median(b)\n",
    "    return r,g,b"
   ]
  },
  {
   "cell_type": "code",
   "execution_count": 13,
   "metadata": {},
   "outputs": [],
   "source": [
    "def run_augmentation(images):\n",
    "    # Standard scenario: You have N RGB-images and additionally 21 heatmaps per image.\n",
    "    # You want to augment each image and its heatmaps identically.\n",
    "    sometimes = lambda aug: iaa.Sometimes(0.5, aug)\n",
    "\n",
    "    # Define our sequence of augmentation steps that will be applied to every image\n",
    "    # All augmenters with per_channel=0.5 will sample one value _per image_\n",
    "    # in 50% of all cases. In all other cases they will sample new values\n",
    "    # _per channel_.\n",
    "    seq = iaa.Sequential(\n",
    "        [\n",
    "            # apply the following augmenters to most images\n",
    "            iaa.Fliplr(0.5), # horizontally flip 50% of all images\n",
    "            sometimes(iaa.Affine(\n",
    "                scale={\"x\": (0.8, 1.2), \"y\": (0.8, 1.2)}, # scale images to 80-120% of their size, individually per axis\n",
    "                translate_percent={\"x\": (-0.2, 0.2), \"y\": (-0.2, 0.2)}, # translate by -20 to +20 percent (per axis)\n",
    "                rotate=(-179, 179), # rotate by -45 to +45 degrees\n",
    "                #order=[0, 1], # use nearest neighbour or bilinear interpolation (fast)\n",
    "                #cval=(0, 255), # if mode is constant, use a cval between 0 and 255\n",
    "                #mode=ia.ALL # use any of scikit-image's warping modes (see 2nd image from the top for examples)\n",
    "            )),\n",
    "            sometimes(iaa.GaussianBlur((0, 3.0)) # blur images with a sigma between 0 and 3.0\n",
    "            ),\n",
    "            sometimes(iaa.PerspectiveTransform(scale=(0.01, 0.1)) # blur images with a sigma between 0 and 3.0\n",
    "            ),\n",
    "        ],\n",
    "        random_order=True\n",
    "    )\n",
    "    images_aug = seq.augment_images(images)    \n",
    "    return images_aug"
   ]
  },
  {
   "cell_type": "code",
   "execution_count": 14,
   "metadata": {},
   "outputs": [],
   "source": [
    "def moder_aug(images):\n",
    "    # Sometimes(0.5, ...) applies the given augmenter in 50% of all cases,\n",
    "    # e.g. Sometimes(0.5, GaussianBlur(0.3)) would blur roughly every second image.\n",
    "    sometimes = lambda aug: iaa.Sometimes(0.5, aug)\n",
    "\n",
    "    # Define our sequence of augmentation steps that will be applied to every image\n",
    "    # All augmenters with per_channel=0.5 will sample one value _per image_\n",
    "    # in 50% of all cases. In all other cases they will sample new values\n",
    "    # _per channel_.\n",
    "    seq = iaa.Sequential(\n",
    "        [\n",
    "            # apply the following augmenters to most images\n",
    "            iaa.Fliplr(0.5), # horizontally flip 50% of all images\n",
    "            iaa.OneOf([\n",
    "                        iaa.GaussianBlur((0, 1.5)), # blur images with a sigma between 0 and 3.0\n",
    "                        iaa.AverageBlur(k=(2, 3)), # blur image using local means with kernel sizes between 2 and 7\n",
    "                        iaa.MedianBlur(k=(1, 5)), # blur image using local medians with kernel sizes between 2 and 7\n",
    "                    ]),\n",
    "            iaa.Add((-190, -170)), # change brightness of images (by -10 to 10 of original value)\n",
    "            #iaa.Flipud(0.2), # vertically flip 20% of all images\n",
    "            # crop images by -5% to 10% of their height/width\n",
    "            sometimes(iaa.CropAndPad(\n",
    "                percent=(-0.02, 0.05),\n",
    "                pad_mode='constant',\n",
    "                pad_cval=(0, 0)\n",
    "            )),\n",
    "            sometimes(iaa.Affine(\n",
    "                scale={\"x\": (0.95, 1.05), \"y\": (0.95, 1.05)}, # scale images to 80-120% of their size, individually per axis\n",
    "                translate_percent={\"x\": (-0.1, 0.1), \"y\": (-0.1, 0.1)}, # translate by -20 to +20 percent (per axis)\n",
    "                rotate=(-15, 15), # rotate by -45 to +45 degrees\n",
    "                #shear=(-16, 16), # shear by -16 to +16 degrees\n",
    "                order=[0], # use nearest neighbour or bilinear interpolation (fast)\n",
    "                cval=(0, 0), # if mode is constant, use a cval between 0 and 255\n",
    "                mode='constant' # use any of scikit-image's warping modes (see 2nd image from the top for examples)\n",
    "            )),\n",
    "            # execute 0 to 5 of the following (less important) augmenters per image\n",
    "            # don't execute all of them, as that would often be way too strong\n",
    "            iaa.SomeOf((0, 1),\n",
    "                [\n",
    "                    #sometimes(iaa.Superpixels(p_replace=(0, 1.0), n_segments=(20, 200))), # convert images into their superpixel representation\n",
    "                    #iaa.AddToHueAndSaturation((-1, 1)), # change hue and saturation\n",
    "                    #iaa.DirectedEdgeDetect(alpha=(0.1, 0.5), direction=(0.0, 1.0)),\n",
    "                    #iaa.AdditiveGaussianNoise(loc=0, scale=(0.0, 0.05*255), per_channel=0.5), # add gaussian noise to images\n",
    "                    #iaa.OneOf([\n",
    "                    #    iaa.Dropout((0.01, 0.1), per_channel=0.5), # randomly remove up to 10% of the pixels\n",
    "                    #    iaa.CoarseDropout((0.03, 0.15), size_percent=(0.02, 0.05), per_channel=0.2),\n",
    "                    #]),\n",
    "                    # either change the brightness of the whole image (sometimes\n",
    "                    # per channel) or change the brightness of subareas\n",
    "\n",
    "                    #iaa.ContrastNormalization((0.1, 0.3)), # improve or worsen the contrast\n",
    "                    #sometimes(iaa.PiecewiseAffine(scale=(0.01, 0.05))), # sometimes move parts of the image around\n",
    "                    #sometimes(iaa.PerspectiveTransform(scale=(0.01, 0.1)))\n",
    "                ],\n",
    "                random_order=True\n",
    "            )\n",
    "        ],\n",
    "        random_order=True\n",
    "    )\n",
    "\n",
    "    images_aug = seq.augment_images(images)\n",
    "    return images_aug"
   ]
  },
  {
   "cell_type": "code",
   "execution_count": 15,
   "metadata": {},
   "outputs": [],
   "source": [
    "def moder_aug(images):\n",
    "    sometimes = lambda aug: iaa.Sometimes(0.5, aug)\n",
    "    \n",
    "    print(type(iaa))\n",
    "    seq = iaa.Sequential(\n",
    "        [\n",
    "            #iaa.Add((-150, -130)),\n",
    "            #iaa.WithChannels(channels=[0],children=iaa.Add((-70, -60))),\n",
    "            iaa.Multiply((0.3, 0.5)),\n",
    "            iaa.Fliplr(0.5), # horizontally flip 50% of all images\n",
    "            #iaa.OneOf([\n",
    "            #            iaa.GaussianBlur((0, 1.5)), # blur images with a sigma between 0 and 3.0\n",
    "            #            iaa.AverageBlur(k=(2, 3)), # blur image using local means with kernel sizes between 2 and 7\n",
    "            #            iaa.MedianBlur(k=(1, 5)), # blur image using local medians with kernel sizes between 2 and 7\n",
    "            #        ]),\n",
    "            #sometimes(iaa.Affine(\n",
    "            #    scale={\"x\": (0.95, 1.05), \"y\": (0.95, 1.05)}, # scale images to 80-120% of their size, individually per axis\n",
    "            #    translate_percent={\"x\": (-0.1, 0.1), \"y\": (-0.1, 0.1)}, # translate by -20 to +20 percent (per axis)\n",
    "            #    rotate=(-15, 15), # rotate by -45 to +45 degrees\n",
    "            #    order=[0], # use nearest neighbour or bilinear interpolation (fast)\n",
    "            #    cval=(0, 0), # if mode is constant, use a cval between 0 and 255\n",
    "            #    mode='constant' # use any of scikit-image's warping modes (see 2nd image from the top for examples)\n",
    "            #))\n",
    "        ],\n",
    "        random_order=False\n",
    "    )\n",
    "\n",
    "    images_aug = seq.augment_images(images)\n",
    "    return images_aug"
   ]
  },
  {
   "cell_type": "code",
   "execution_count": 16,
   "metadata": {},
   "outputs": [],
   "source": [
    "def moder_aug_single(image, disc, sigma):\n",
    "    sometimes = lambda aug: iaa.Sometimes(0.5, aug)\n",
    "    r,g,b = get_rgb_medians(image, disc)\n",
    "    \n",
    "    rc, bc, gc = 103 - r, 60 - g,38 - b\n",
    "    \n",
    "    seq = iaa.Sequential(\n",
    "        [\n",
    "            #iaa.Add((-150, -130)),\n",
    "            iaa.WithChannels(channels=[0],children=iaa.Add((rc,rc))),\n",
    "            iaa.WithChannels(channels=[1],children=iaa.Add((gc,gc))),\n",
    "            iaa.WithChannels(channels=[2],children=iaa.Add((bc,bc))),\n",
    "            #iaa.WithChannels(channels=[0],children=iaa.Multiply(((r-sigma)/r, (r-sigma)/r))),\n",
    "            #iaa.WithChannels(channels=[1],children=iaa.Multiply(((g-(sigma*.573))/g, (g-(sigma*.573))/g))),\n",
    "            #iaa.WithChannels(channels=[2],children=iaa.Multiply(((b-(sigma*.246) )/b, (b-(sigma*.246))/b))),\n",
    "            #iaa.ContrastNormalization((1.0004, 1.0004)),\n",
    "            #iaa.Multiply((0.8, 0.9)),\n",
    "            #iaa.Fliplr(0.5), # horizontally flip 50% of all images\n",
    "            #iaa.OneOf([\n",
    "            #            iaa.GaussianBlur((0, 1.5)), # blur images with a sigma between 0 and 3.0\n",
    "            #            iaa.AverageBlur(k=(2, 3)), # blur image using local means with kernel sizes between 2 and 7\n",
    "            #            iaa.MedianBlur(k=(1, 5)), # blur image using local medians with kernel sizes between 2 and 7\n",
    "            #        ]),\n",
    "            #sometimes(iaa.Affine(\n",
    "            #    scale={\"x\": (0.95, 1.05), \"y\": (0.95, 1.05)}, # scale images to 80-120% of their size, individually per axis\n",
    "            #    translate_percent={\"x\": (-0.1, 0.1), \"y\": (-0.1, 0.1)}, # translate by -20 to +20 percent (per axis)\n",
    "            #    rotate=(-15, 15), # rotate by -45 to +45 degrees\n",
    "            #    order=[0], # use nearest neighbour or bilinear interpolation (fast)\n",
    "            #    cval=(0, 0), # if mode is constant, use a cval between 0 and 255\n",
    "            #    mode='constant' # use any of scikit-image's warping modes (see 2nd image from the top for examples)\n",
    "            #))\n",
    "        ],\n",
    "        random_order=False\n",
    "    )\n",
    "    image = seq.augment_image(image)\n",
    "    r,g,b = get_rgb_medians(image, disc)\n",
    "    return image"
   ]
  },
  {
   "cell_type": "code",
   "execution_count": 17,
   "metadata": {},
   "outputs": [
    {
     "name": "stdout",
     "output_type": "stream",
     "text": [
      "0\n",
      "1\n",
      "2\n",
      "3\n",
      "4\n",
      "5\n",
      "6\n",
      "7\n",
      "8\n",
      "9\n",
      "10\n",
      "11\n",
      "12\n",
      "13\n",
      "14\n",
      "15\n",
      "16\n",
      "17\n",
      "18\n",
      "19\n"
     ]
    }
   ],
   "source": [
    "moderaug_cropped_not_glauc = []\n",
    "for i in range(20):\n",
    "    moderaug_cropped_not_glauc.append(moder_aug_single(cropped_not_glauc[i],cropped_discs_not_glauc[i], 2.))\n",
    "    print(i)\n",
    "moderaug_cropped_not_glauc = np.array(moderaug_cropped_not_glauc) "
   ]
  },
  {
   "cell_type": "code",
   "execution_count": 18,
   "metadata": {},
   "outputs": [
    {
     "name": "stderr",
     "output_type": "stream",
     "text": [
      "/Library/Frameworks/Python.framework/Versions/2.7/lib/python2.7/site-packages/ipykernel_launcher.py:3: DeprecationWarning: `toimage` is deprecated!\n",
      "`toimage` is deprecated in SciPy 1.0.0, and will be removed in 1.2.0.\n",
      "Use Pillow's ``Image.fromarray`` directly instead.\n",
      "  This is separate from the ipykernel package so we can avoid doing imports until\n"
     ]
    }
   ],
   "source": [
    "save_images(\"/Users/karimabedrabbo/Desktop/Ipython_Notebooks_Aug/moderaug_cropped_not_glauc\",moderaug_cropped_not_glauc)"
   ]
  },
  {
   "cell_type": "code",
   "execution_count": 82,
   "metadata": {},
   "outputs": [],
   "source": [
    "def heavy_aug(images):\n",
    "    # Sometimes(0.5, ...) applies the given augmenter in 50% of all cases,\n",
    "    # e.g. Sometimes(0.5, GaussianBlur(0.3)) would blur roughly every second image.\n",
    "    sometimes = lambda aug: iaa.Sometimes(0.5, aug)\n",
    "\n",
    "    # Define our sequence of augmentation steps that will be applied to every image\n",
    "    # All augmenters with per_channel=0.5 will sample one value _per image_\n",
    "    # in 50% of all cases. In all other cases they will sample new values\n",
    "    # _per channel_.\n",
    "    seq = iaa.Sequential(\n",
    "        [\n",
    "            # apply the following augmenters to most images\n",
    "            iaa.Fliplr(0.5), # horizontally flip 50% of all images\n",
    "            iaa.Flipud(0.2), # vertically flip 20% of all images\n",
    "            # crop images by -5% to 10% of their height/width\n",
    "            sometimes(iaa.CropAndPad(\n",
    "                percent=(-0.05, 0.1),\n",
    "                pad_mode=ia.ALL,\n",
    "                pad_cval=(0, 255)\n",
    "            )),\n",
    "            sometimes(iaa.Affine(\n",
    "                scale={\"x\": (0.8, 1.2), \"y\": (0.8, 1.2)}, # scale images to 80-120% of their size, individually per axis\n",
    "                translate_percent={\"x\": (-0.2, 0.2), \"y\": (-0.2, 0.2)}, # translate by -20 to +20 percent (per axis)\n",
    "                rotate=(-45, 45), # rotate by -45 to +45 degrees\n",
    "                shear=(-16, 16), # shear by -16 to +16 degrees\n",
    "                order=[0, 1], # use nearest neighbour or bilinear interpolation (fast)\n",
    "                cval=(0, 255), # if mode is constant, use a cval between 0 and 255\n",
    "                mode=ia.ALL # use any of scikit-image's warping modes (see 2nd image from the top for examples)\n",
    "            )),\n",
    "            # execute 0 to 5 of the following (less important) augmenters per image\n",
    "            # don't execute all of them, as that would often be way too strong\n",
    "            iaa.SomeOf((0, 5),\n",
    "                [\n",
    "                    sometimes(iaa.Superpixels(p_replace=(0, 1.0), n_segments=(20, 200))), # convert images into their superpixel representation\n",
    "                    iaa.OneOf([\n",
    "                        iaa.GaussianBlur((0, 3.0)), # blur images with a sigma between 0 and 3.0\n",
    "                        iaa.AverageBlur(k=(2, 7)), # blur image using local means with kernel sizes between 2 and 7\n",
    "                        iaa.MedianBlur(k=(3, 11)), # blur image using local medians with kernel sizes between 2 and 7\n",
    "                    ]),\n",
    "                    iaa.Sharpen(alpha=(0, 1.0), lightness=(0.75, 1.5)), # sharpen images\n",
    "                    iaa.Emboss(alpha=(0, 1.0), strength=(0, 2.0)), # emboss images\n",
    "                    # search either for all edges or for directed edges,\n",
    "                    # blend the result with the original image using a blobby mask\n",
    "                    iaa.SimplexNoiseAlpha(iaa.OneOf([\n",
    "                        iaa.EdgeDetect(alpha=(0.5, 1.0)),\n",
    "                        iaa.DirectedEdgeDetect(alpha=(0.5, 1.0), direction=(0.0, 1.0)),\n",
    "                    ])),\n",
    "                    iaa.AdditiveGaussianNoise(loc=0, scale=(0.0, 0.05*255), per_channel=0.5), # add gaussian noise to images\n",
    "                    iaa.OneOf([\n",
    "                        iaa.Dropout((0.01, 0.1), per_channel=0.5), # randomly remove up to 10% of the pixels\n",
    "                        iaa.CoarseDropout((0.03, 0.15), size_percent=(0.02, 0.05), per_channel=0.2),\n",
    "                    ]),\n",
    "                    iaa.Invert(0.05, per_channel=True), # invert color channels\n",
    "                    iaa.Add((-10, 10), per_channel=0.5), # change brightness of images (by -10 to 10 of original value)\n",
    "                    iaa.AddToHueAndSaturation((-20, 20)), # change hue and saturation\n",
    "                    # either change the brightness of the whole image (sometimes\n",
    "                    # per channel) or change the brightness of subareas\n",
    "                    iaa.OneOf([\n",
    "                        iaa.Multiply((0.5, 1.5), per_channel=0.5),\n",
    "                        iaa.FrequencyNoiseAlpha(\n",
    "                            exponent=(-4, 0),\n",
    "                            first=iaa.Multiply((0.5, 1.5), per_channel=True),\n",
    "                            second=iaa.ContrastNormalization((0.5, 2.0))\n",
    "                        )\n",
    "                    ]),\n",
    "                    iaa.ContrastNormalization((0.5, 2.0), per_channel=0.5), # improve or worsen the contrast\n",
    "                    iaa.Grayscale(alpha=(0.0, 1.0)),\n",
    "                    sometimes(iaa.ElasticTransformation(alpha=(0.5, 3.5), sigma=0.25)), # move pixels locally around (with random strengths)\n",
    "                    sometimes(iaa.PiecewiseAffine(scale=(0.01, 0.05))), # sometimes move parts of the image around\n",
    "                    sometimes(iaa.PerspectiveTransform(scale=(0.01, 0.1)))\n",
    "                ],\n",
    "                random_order=True\n",
    "            )\n",
    "        ],\n",
    "        random_order=True\n",
    "    )\n",
    "\n",
    "    images_aug = seq.augment_images(images)\n",
    "    return images_aug"
   ]
  },
  {
   "cell_type": "code",
   "execution_count": 90,
   "metadata": {},
   "outputs": [],
   "source": [
    "def save_images(aug_path, aug_imgs):\n",
    "    for i in range(len(aug_imgs)):\n",
    "        aug = misc.toimage(aug_imgs[i])\n",
    "        aug.save(aug_path + \"/\" + str(i + 1) + \".png\")"
   ]
  },
  {
   "cell_type": "code",
   "execution_count": 12,
   "metadata": {},
   "outputs": [],
   "source": [
    "lightaug_cropped_glauc = run_augmentation(cropped_glauc)\n",
    "lightaug_cropped_not_glauc = run_augmentation(cropped_not_glauc)"
   ]
  },
  {
   "cell_type": "code",
   "execution_count": 59,
   "metadata": {},
   "outputs": [
    {
     "ename": "NameError",
     "evalue": "name 'lightaug_cropped_glauc' is not defined",
     "output_type": "error",
     "traceback": [
      "\u001b[0;31m---------------------------------------------------------------------------\u001b[0m",
      "\u001b[0;31mNameError\u001b[0m                                 Traceback (most recent call last)",
      "\u001b[0;32m<ipython-input-59-ec603bdeeecc>\u001b[0m in \u001b[0;36m<module>\u001b[0;34m()\u001b[0m\n\u001b[0;32m----> 1\u001b[0;31m \u001b[0msave_images\u001b[0m\u001b[0;34m(\u001b[0m\u001b[0;34m\"/Users/karimabedrabbo/Desktop/Ipython_Notebooks_Aug/lightaug_cropped_glauc\"\u001b[0m\u001b[0;34m,\u001b[0m\u001b[0mlightaug_cropped_glauc\u001b[0m\u001b[0;34m)\u001b[0m\u001b[0;34m\u001b[0m\u001b[0m\n\u001b[0m\u001b[1;32m      2\u001b[0m \u001b[0msave_images\u001b[0m\u001b[0;34m(\u001b[0m\u001b[0;34m\"/Users/karimabedrabbo/Desktop/Ipython_Notebooks_Aug/lightaug_cropped_not_glauc\"\u001b[0m\u001b[0;34m,\u001b[0m\u001b[0mlightaug_cropped_not_glauc\u001b[0m\u001b[0;34m)\u001b[0m\u001b[0;34m\u001b[0m\u001b[0m\n",
      "\u001b[0;31mNameError\u001b[0m: name 'lightaug_cropped_glauc' is not defined"
     ]
    }
   ],
   "source": [
    "save_images(\"/Users/karimabedrabbo/Desktop/Ipython_Notebooks_Aug/lightaug_cropped_glauc\",lightaug_cropped_glauc)\n",
    "save_images(\"/Users/karimabedrabbo/Desktop/Ipython_Notebooks_Aug/lightaug_cropped_not_glauc\",lightaug_cropped_not_glauc)"
   ]
  },
  {
   "cell_type": "code",
   "execution_count": 91,
   "metadata": {},
   "outputs": [],
   "source": [
    "moderaug_cropped_glauc = moder_aug(cropped_glauc)\n",
    "moderaug_cropped_not_glauc = moder_aug(cropped_not_glauc)"
   ]
  },
  {
   "cell_type": "code",
   "execution_count": 92,
   "metadata": {},
   "outputs": [
    {
     "name": "stderr",
     "output_type": "stream",
     "text": [
      "/Library/Frameworks/Python.framework/Versions/2.7/lib/python2.7/site-packages/ipykernel_launcher.py:3: DeprecationWarning: `toimage` is deprecated!\n",
      "`toimage` is deprecated in SciPy 1.0.0, and will be removed in 1.2.0.\n",
      "Use Pillow's ``Image.fromarray`` directly instead.\n",
      "  This is separate from the ipykernel package so we can avoid doing imports until\n"
     ]
    }
   ],
   "source": [
    "save_images(\"/Users/karimabedrabbo/Desktop/Ipython_Notebooks_Aug/moderaug_cropped_glauc\",moderaug_cropped_glauc)\n",
    "save_images(\"/Users/karimabedrabbo/Desktop/Ipython_Notebooks_Aug/moderaug_cropped_not_glauc\",moderaug_cropped_not_glauc)"
   ]
  },
  {
   "cell_type": "code",
   "execution_count": 14,
   "metadata": {},
   "outputs": [],
   "source": [
    "heavyaug_cropped_glauc = heavy_aug(cropped_glauc)\n",
    "heavyaug_cropped_not_glauc = heavy_aug(cropped_not_glauc)"
   ]
  },
  {
   "cell_type": "code",
   "execution_count": 15,
   "metadata": {},
   "outputs": [
    {
     "name": "stderr",
     "output_type": "stream",
     "text": [
      "/Library/Frameworks/Python.framework/Versions/2.7/lib/python2.7/site-packages/ipykernel_launcher.py:3: DeprecationWarning: `toimage` is deprecated!\n",
      "`toimage` is deprecated in SciPy 1.0.0, and will be removed in 1.2.0.\n",
      "Use Pillow's ``Image.fromarray`` directly instead.\n",
      "  This is separate from the ipykernel package so we can avoid doing imports until\n"
     ]
    }
   ],
   "source": [
    "save_images(\"/Users/karimabedrabbo/Desktop/Ipython_Notebooks_Aug/heavyaug_cropped_glauc\",heavyaug_cropped_glauc)\n",
    "save_images(\"/Users/karimabedrabbo/Desktop/Ipython_Notebooks_Aug/heavyaug_cropped_not_glauc\",heavyaug_cropped_not_glauc)"
   ]
  },
  {
   "cell_type": "code",
   "execution_count": null,
   "metadata": {},
   "outputs": [],
   "source": []
  }
 ],
 "metadata": {
  "kernelspec": {
   "display_name": "Python 2",
   "language": "python",
   "name": "python2"
  },
  "language_info": {
   "codemirror_mode": {
    "name": "ipython",
    "version": 2
   },
   "file_extension": ".py",
   "mimetype": "text/x-python",
   "name": "python",
   "nbconvert_exporter": "python",
   "pygments_lexer": "ipython2",
   "version": "2.7.14"
  }
 },
 "nbformat": 4,
 "nbformat_minor": 2
}
