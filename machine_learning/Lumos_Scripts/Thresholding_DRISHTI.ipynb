{
 "cells": [
  {
   "cell_type": "code",
   "execution_count": 2,
   "metadata": {},
   "outputs": [
    {
     "name": "stderr",
     "output_type": "stream",
     "text": [
      "/Library/Frameworks/Python.framework/Versions/2.7/lib/python2.7/site-packages/h5py/__init__.py:36: FutureWarning: Conversion of the second argument of issubdtype from `float` to `np.floating` is deprecated. In future, it will be treated as `np.float64 == np.dtype(float).type`.\n",
      "  from ._conv import register_converters as _register_converters\n",
      "Using TensorFlow backend.\n"
     ]
    }
   ],
   "source": [
    "import numpy as np\n",
    "import sys\n",
    "import os\n",
    "import glob\n",
    "from keras.preprocessing import image\n",
    "import cv2\n",
    "from PIL import Image\n",
    "import matplotlib.pyplot as plt\n",
    "import matplotlib.cm as cm\n",
    "import scipy\n",
    "from scipy import misc\n",
    "import scipy.io\n",
    "from keras import backend as K\n",
    "from keras.layers import Dense, Dropout, Activation, Flatten, BatchNormalization, \\\n",
    "    Convolution2D, MaxPooling2D, ZeroPadding2D, Input, Embedding, LSTM, merge, \\\n",
    "    Lambda, UpSampling2D, Deconvolution2D, Cropping2D\n",
    "from keras.layers import Convolution3D, MaxPooling3D, ZeroPadding3D, UpSampling3D, Deconvolution3D, Cropping3D\n",
    "from keras.models import Sequential, Model\n",
    "import time\n",
    "import re"
   ]
  },
  {
   "cell_type": "code",
   "execution_count": null,
   "metadata": {},
   "outputs": [],
   "source": []
  },
  {
   "cell_type": "code",
   "execution_count": 7,
   "metadata": {},
   "outputs": [
    {
     "name": "stderr",
     "output_type": "stream",
     "text": [
      "/Library/Frameworks/Python.framework/Versions/2.7/lib/python2.7/site-packages/ipykernel_launcher.py:8: DeprecationWarning: `toimage` is deprecated!\n",
      "`toimage` is deprecated in SciPy 1.0.0, and will be removed in 1.2.0.\n",
      "Use Pillow's ``Image.fromarray`` directly instead.\n",
      "  \n",
      "/Library/Frameworks/Python.framework/Versions/2.7/lib/python2.7/site-packages/ipykernel_launcher.py:14: DeprecationWarning: `toimage` is deprecated!\n",
      "`toimage` is deprecated in SciPy 1.0.0, and will be removed in 1.2.0.\n",
      "Use Pillow's ``Image.fromarray`` directly instead.\n",
      "  \n"
     ]
    }
   ],
   "source": [
    "testing = glob.glob1(\"/Users/karimabedrabbo/Desktop/Drishti_GT_DISC/Testing/\",\"*.png\")\n",
    "training = glob.glob1(\"/Users/karimabedrabbo/Desktop/Drishti_GT_DISC/Training/\",\"*.png\")\n",
    "\n",
    "for name in testing:\n",
    "    img = cv2.imread(\"/Users/karimabedrabbo/Desktop/Drishti_GT_DISC/Testing/\" + name,0)\n",
    "    ret,thresh1 = cv2.threshold(img,180,255,cv2.THRESH_BINARY)\n",
    "    name = name.lstrip(\"0\")\n",
    "    final = misc.toimage(thresh1)\n",
    "    final.save(\"/Users/karimabedrabbo/Desktop/Drishti_GT_DISC/2nd_Thresh_Testing/\" + name)\n",
    "for name in training:\n",
    "    img = cv2.imread(\"/Users/karimabedrabbo/Desktop/Drishti_GT_DISC/Training/\" + name,0)\n",
    "    ret,thresh1 = cv2.threshold(img,180,255,cv2.THRESH_BINARY)\n",
    "    name = name.lstrip(\"0\")\n",
    "    final = misc.toimage(thresh1)\n",
    "    final.save(\"/Users/karimabedrabbo/Desktop/Drishti_GT_DISC/2nd_Thresh_Training/\" + name)"
   ]
  },
  {
   "cell_type": "code",
   "execution_count": null,
   "metadata": {},
   "outputs": [],
   "source": []
  }
 ],
 "metadata": {
  "kernelspec": {
   "display_name": "Python 2",
   "language": "python",
   "name": "python2"
  },
  "language_info": {
   "codemirror_mode": {
    "name": "ipython",
    "version": 2
   },
   "file_extension": ".py",
   "mimetype": "text/x-python",
   "name": "python",
   "nbconvert_exporter": "python",
   "pygments_lexer": "ipython2",
   "version": "2.7.14"
  }
 },
 "nbformat": 4,
 "nbformat_minor": 2
}
