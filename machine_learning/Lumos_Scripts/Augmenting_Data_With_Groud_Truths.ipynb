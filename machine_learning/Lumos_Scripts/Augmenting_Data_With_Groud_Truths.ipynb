{
 "cells": [
  {
   "cell_type": "code",
   "execution_count": 50,
   "metadata": {},
   "outputs": [],
   "source": [
    "from imgaug import augmenters as iaa\n",
    "import numpy as np\n",
    "import sys\n",
    "import os\n",
    "import glob\n",
    "from keras.preprocessing import image\n",
    "import cv2\n",
    "from PIL import Image\n",
    "import matplotlib.pyplot as plt\n",
    "import matplotlib.cm as cm\n",
    "import scipy\n",
    "from scipy import misc\n",
    "import scipy.io\n",
    "from keras.preprocessing import image\n",
    "from imgaug import augmenters as iaa"
   ]
  },
  {
   "cell_type": "code",
   "execution_count": 51,
   "metadata": {},
   "outputs": [],
   "source": [
    "testing_gt_path = \"/Users/karimabedrabbo/Desktop/dris_cropped/dris_cup/testing\"\n",
    "training_gt_path = \"/Users/karimabedrabbo/Desktop/dris_cropped/dris_cup/training\"\n",
    "testing_orig_path = \"/Users/karimabedrabbo/Desktop/dris_cropped/dris_cropped/testing\"\n",
    "training_orig_path = \"/Users/karimabedrabbo/Desktop/dris_cropped/dris_cropped/training\"\n",
    "\n",
    "testing_gt = glob.glob1(testing_gt_path,\"*.png\")\n",
    "training_gt = glob.glob1(training_gt_path ,\"*.png\")\n",
    "\n",
    "testing_orig = glob.glob1(testing_orig_path,\"*.png\")\n",
    "training_orig = glob.glob1(training_orig_path,\"*.png\")"
   ]
  },
  {
   "cell_type": "code",
   "execution_count": 52,
   "metadata": {},
   "outputs": [],
   "source": [
    "testing_gt_imgs = [np.array(image.load_img(testing_gt_path + \"/\" + fname, target_size=(350, 350, 3))) for fname in testing_gt]\n",
    "training_gt_imgs = [np.array(image.load_img(training_gt_path + \"/\" + fname, target_size=(350, 350, 3))) for fname in training_gt]\n",
    "\n",
    "testing_orig_imgs = [np.array(image.load_img(testing_orig_path + \"/\"+fname, target_size=(350, 350, 3))) for fname in testing_orig]\n",
    "training_orig_imgs = [np.array(image.load_img(training_orig_path + \"/\"+fname, target_size=(350, 350, 3))) for fname in training_orig]\n"
   ]
  },
  {
   "cell_type": "code",
   "execution_count": 53,
   "metadata": {},
   "outputs": [],
   "source": [
    "def multiple_image_numpy(imgs, rows, cols):\n",
    "    total = len(imgs)\n",
    "    new = np.ndarray((total, rows, cols, 3), dtype=np.uint8)\n",
    "\n",
    "    for i in range(total):\n",
    "        new[i] = imgs[i]\n",
    "    \n",
    "    return new\n"
   ]
  },
  {
   "cell_type": "code",
   "execution_count": 72,
   "metadata": {},
   "outputs": [],
   "source": [
    "def run_augmentation(images, heatmaps):\n",
    "    # Standard scenario: You have N RGB-images and additionally 21 heatmaps per image.\n",
    "    # You want to augment each image and its heatmaps identically.\n",
    "    sometimes = lambda aug: iaa.Sometimes(0.5, aug)\n",
    "\n",
    "    # Define our sequence of augmentation steps that will be applied to every image\n",
    "    # All augmenters with per_channel=0.5 will sample one value _per image_\n",
    "    # in 50% of all cases. In all other cases they will sample new values\n",
    "    # _per channel_.\n",
    "    seq = iaa.Sequential(\n",
    "        [\n",
    "            # apply the following augmenters to most images\n",
    "            iaa.Fliplr(0.5), # horizontally flip 50% of all images\n",
    "            sometimes(iaa.Affine(\n",
    "                scale={\"x\": (0.8, 1.2), \"y\": (0.8, 1.2)}, # scale images to 80-120% of their size, individually per axis\n",
    "                translate_percent={\"x\": (-0.2, 0.2), \"y\": (-0.2, 0.2)}, # translate by -20 to +20 percent (per axis)\n",
    "                rotate=(-179, 179), # rotate by -45 to +45 degrees\n",
    "                #order=[0, 1], # use nearest neighbour or bilinear interpolation (fast)\n",
    "                #cval=(0, 255), # if mode is constant, use a cval between 0 and 255\n",
    "                #mode=ia.ALL # use any of scikit-image's warping modes (see 2nd image from the top for examples)\n",
    "            )),\n",
    "            sometimes(iaa.GaussianBlur((0, 3.0)) # blur images with a sigma between 0 and 3.0\n",
    "            ),\n",
    "            sometimes(iaa.PerspectiveTransform(scale=(0.01, 0.1)) # blur images with a sigma between 0 and 3.0\n",
    "            ),\n",
    "        ],\n",
    "        random_order=True\n",
    "    )\n",
    "\n",
    "\n",
    "\n",
    "    # Convert the stochastic sequence of augmenters to a deterministic one.\n",
    "    # The deterministic sequence will always apply the exactly same effects to the images.\n",
    "    seq_det = seq.to_deterministic() # call this for each batch again, NOT only once at the start\n",
    "    images_aug = seq_det.augment_images(images)\n",
    "    heatmaps_aug = seq_det.augment_images(heatmaps)\n",
    "    \n",
    "    return images_aug, heatmaps_aug"
   ]
  },
  {
   "cell_type": "code",
   "execution_count": 73,
   "metadata": {},
   "outputs": [],
   "source": [
    "testing_gt_imgs = multiple_image_numpy(testing_gt_imgs, 350, 350)\n",
    "training_gt_imgs = multiple_image_numpy(training_gt_imgs, 350, 350)\n",
    "testing_orig_imgs = multiple_image_numpy(testing_orig_imgs, 350, 350)\n",
    "training_orig_imgs = multiple_image_numpy(training_orig_imgs, 350, 350)"
   ]
  },
  {
   "cell_type": "code",
   "execution_count": 74,
   "metadata": {},
   "outputs": [],
   "source": [
    "testing_orig_imgs_aug, testing_gt_imgs_aug = run_augmentation(testing_orig_imgs,testing_gt_imgs)\n",
    "training_orig_imgs_aug, training_gt_imgs_aug = run_augmentation(training_orig_imgs,training_gt_imgs)"
   ]
  },
  {
   "cell_type": "code",
   "execution_count": 75,
   "metadata": {},
   "outputs": [],
   "source": [
    "def save_images(orig_path, mask_path, orig_imgs, mask_imgs):\n",
    "    for i in range(len(orig_imgs)):\n",
    "        orig = misc.toimage(orig_imgs[i])\n",
    "        orig.save(orig_path + str(i) + \".png\")\n",
    "    for i in range(len(mask_imgs)):\n",
    "        mask = misc.toimage(mask_imgs[i])\n",
    "        mask.save(mask_path + str(i) + \".png\")"
   ]
  },
  {
   "cell_type": "code",
   "execution_count": 76,
   "metadata": {},
   "outputs": [
    {
     "name": "stderr",
     "output_type": "stream",
     "text": [
      "/Library/Frameworks/Python.framework/Versions/2.7/lib/python2.7/site-packages/ipykernel_launcher.py:3: DeprecationWarning: `toimage` is deprecated!\n",
      "`toimage` is deprecated in SciPy 1.0.0, and will be removed in 1.2.0.\n",
      "Use Pillow's ``Image.fromarray`` directly instead.\n",
      "  This is separate from the ipykernel package so we can avoid doing imports until\n",
      "/Library/Frameworks/Python.framework/Versions/2.7/lib/python2.7/site-packages/ipykernel_launcher.py:6: DeprecationWarning: `toimage` is deprecated!\n",
      "`toimage` is deprecated in SciPy 1.0.0, and will be removed in 1.2.0.\n",
      "Use Pillow's ``Image.fromarray`` directly instead.\n",
      "  \n"
     ]
    }
   ],
   "source": [
    "save_images(\"/Users/karimabedrabbo/Desktop/Drishti_Augmented/dris_cropped/testing/\",\"/Users/karimabedrabbo/Desktop/Drishti_Augmented/dris_cup/testing/\",testing_orig_imgs_aug, testing_gt_imgs_aug)\n",
    "save_images(\"/Users/karimabedrabbo/Desktop/Drishti_Augmented/dris_cropped/training/\",\"/Users/karimabedrabbo/Desktop/Drishti_Augmented/dris_cup/training/\",training_orig_imgs_aug, training_gt_imgs_aug)\n"
   ]
  },
  {
   "cell_type": "code",
   "execution_count": null,
   "metadata": {},
   "outputs": [],
   "source": []
  }
 ],
 "metadata": {
  "kernelspec": {
   "display_name": "Python 2",
   "language": "python",
   "name": "python2"
  },
  "language_info": {
   "codemirror_mode": {
    "name": "ipython",
    "version": 2
   },
   "file_extension": ".py",
   "mimetype": "text/x-python",
   "name": "python",
   "nbconvert_exporter": "python",
   "pygments_lexer": "ipython2",
   "version": "2.7.14"
  }
 },
 "nbformat": 4,
 "nbformat_minor": 2
}
