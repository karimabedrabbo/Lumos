{
 "cells": [
  {
   "cell_type": "code",
   "execution_count": 3,
   "metadata": {},
   "outputs": [
    {
     "name": "stderr",
     "output_type": "stream",
     "text": [
      "/Library/Frameworks/Python.framework/Versions/2.7/lib/python2.7/site-packages/h5py/__init__.py:36: FutureWarning: Conversion of the second argument of issubdtype from `float` to `np.floating` is deprecated. In future, it will be treated as `np.float64 == np.dtype(float).type`.\n",
      "  from ._conv import register_converters as _register_converters\n",
      "Using TensorFlow backend.\n"
     ]
    }
   ],
   "source": [
    "import imgaug as ia\n",
    "from imgaug import augmenters as iaa\n",
    "import numpy as np\n",
    "import sys\n",
    "import os\n",
    "import glob\n",
    "from keras.preprocessing import image\n",
    "import cv2\n",
    "from PIL import Image\n",
    "import matplotlib.pyplot as plt\n",
    "import matplotlib.cm as cm\n",
    "import scipy\n",
    "from scipy import misc\n",
    "import scipy.io"
   ]
  },
  {
   "cell_type": "code",
   "execution_count": 5,
   "metadata": {},
   "outputs": [],
   "source": [
    "def sort(path, im_type, backend):\n",
    "\n",
    "    images = glob.glob1(path,\"*.\" + str(im_type))\n",
    "    im_type_length = len(im_type) + 1\n",
    "    images = [element[:-im_type_length] for element in images]\n",
    "    images.sort(key=int)\n",
    "    images = [element + \".\" + str(im_type) for element in images]\n",
    "\n",
    "    if backend == \"keras\" or backend == \"Keras\" or backend == \"keras\":\n",
    "        images = [np.array(image.load_img(path + \"/\" + fname)) for fname in images]\n",
    "    if backend == \"opencv\" or backend == \"openCV\" or backend == \"OPENCV\" or backend == \"cv2\":\n",
    "        images = [np.array(cv2.imread(path + \"/\" + fname)) for fname in images]\n",
    "    if backend == \"PIL\" or backend == \"pil\":\n",
    "        images = [np.array(Image.open(path + \"/\" + fname)) for fname in images]\n",
    "    return images"
   ]
  },
  {
   "cell_type": "code",
   "execution_count": 8,
   "metadata": {},
   "outputs": [],
   "source": [
    "def save_images(aug_path, aug_imgs):\n",
    "    for i in range(len(aug_imgs)):\n",
    "        aug = misc.toimage(aug_imgs[i])\n",
    "        aug.save(aug_path + \"/\" + str(i + 1) + \".png\")"
   ]
  },
  {
   "cell_type": "code",
   "execution_count": 9,
   "metadata": {},
   "outputs": [],
   "source": [
    "def sort_list(path_list, im_type, backend):\n",
    "    final = []\n",
    "    for path in path_list:\n",
    "        final.append(sort(path, im_type, backend))\n",
    "    return final"
   ]
  },
  {
   "cell_type": "code",
   "execution_count": 10,
   "metadata": {},
   "outputs": [],
   "source": [
    "def multiple_image_numpy(imgs, rows, cols):\n",
    "    total = len(imgs)\n",
    "    new = np.ndarray((total, rows, cols, 3), dtype=np.uint8)\n",
    "\n",
    "    for i in range(total):\n",
    "        new[i] = imgs[i]\n",
    "    \n",
    "    return new\n"
   ]
  },
  {
   "cell_type": "code",
   "execution_count": 11,
   "metadata": {},
   "outputs": [],
   "source": [
    "def rgb2gray(rgb):\n",
    "\n",
    "    r, g, b = rgb[:,:,0], rgb[:,:,1], rgb[:,:,2]\n",
    "    gray = 0.2989 * r + 0.5870 * g + 0.1140 * b\n",
    "\n",
    "    return gray"
   ]
  },
  {
   "cell_type": "code",
   "execution_count": null,
   "metadata": {},
   "outputs": [],
   "source": [
    "def show_stats(imgs, discs):\n",
    "    rl = []\n",
    "    bl = []\n",
    "    gl = []\n",
    "    for i in range(len(imgs)):\n",
    "        img = imgs[i]\n",
    "        disc = discs[i]\n",
    "        r,g,b = get_rgb_medians(img, disc)\n",
    "        rl.append(r)\n",
    "        bl.append(b)\n",
    "        gl.append(g)\n",
    "    rl = np.array(rl)\n",
    "    bl = np.array(bl)\n",
    "    gl = np.array(gl)\n",
    "    r_25 = np.percentile(rl, 25)\n",
    "    r_75 = np.percentile(rl, 75)\n",
    "    g_25 = np.percentile(gl, 25)\n",
    "    g_75 = np.percentile(gl, 75)\n",
    "    b_25 = np.percentile(bl, 25)\n",
    "    b_75 = np.percentile(bl, 75)\n",
    "    r_50 = np.percentile(rl, 50)\n",
    "    g_50 = np.percentile(gl, 50)\n",
    "    b_50 = np.percentile(bl, 50)\n",
    "    print(\"Glaucoma\")\n",
    "    print(\"Red 25th Percentile \" + str(r_25))\n",
    "    print(\"Red 50th Percentile \" + str(r_50))\n",
    "    print(\"Red 75th Percentile \" + str(r_75))\n",
    "    print(\"Green 25th Percentile \" + str(g_25))\n",
    "    print(\"Green 50th Percentile \" + str(g_50))\n",
    "    print(\"Green 75th Percentile \" + str(g_75))\n",
    "    print(\"Blue 25th Percentile \" + str(b_25))\n",
    "    print(\"Blue 50th Percentile \" + str(b_50))\n",
    "    print(\"Blue 75th Percentile \" + str(b_75))"
   ]
  },
  {
   "cell_type": "code",
   "execution_count": 12,
   "metadata": {},
   "outputs": [],
   "source": [
    "def get_rgb_lists(img, disc):\n",
    "    img = cv2.GaussianBlur(img,(5,5),0)\n",
    "    if (len(disc.shape) == 3):\n",
    "        disc = rgb2gray(disc)\n",
    "    img[disc == 0] = [0, 0, 0]\n",
    "    image = Image.fromarray(img).convert('RGB')\n",
    "    r = []\n",
    "    g = []\n",
    "    b = []\n",
    "    for i in range(img.shape[0]):\n",
    "        for j in range(img.shape[1]):\n",
    "            color = image.getpixel((i, j))\n",
    "            if not color[0] == 0: r.append(color[0])\n",
    "            if not color[0] == 0: g.append(color[1])\n",
    "            if not color[0] == 0: b.append(color[2])\n",
    "    return r,g,b"
   ]
  },
  {
   "cell_type": "code",
   "execution_count": null,
   "metadata": {},
   "outputs": [],
   "source": [
    "def get_rgb_medians(img, disc):\n",
    "    r,g,b = get_rgb_lists(img, disc)\n",
    "    r,g,b = np.median(r), np.median(g), np.median(b)\n",
    "    return r,g,b"
   ]
  },
  {
   "cell_type": "code",
   "execution_count": null,
   "metadata": {},
   "outputs": [],
   "source": [
    "def get_rgb_percentiles(img, disc, percentile):\n",
    "    r,g,b = get_rgb_lists(img, disc)\n",
    "    r,g,b = np.percentile(r, percentile), np.percentile(g, percentile), np.percentile(b, percentile)\n",
    "    return r,g,b"
   ]
  },
  {
   "cell_type": "code",
   "execution_count": 6,
   "metadata": {},
   "outputs": [],
   "source": [
    "cropped_glauc = sort(path = \"/Users/karimabedrabbo/Desktop/Ipython_Notebooks_Aug/cropped_glauc_png\", im_type = \"png\", backend = \"keras\")\n",
    "cropped_not_glauc = sort(path = \"/Users/karimabedrabbo/Desktop/Ipython_Notebooks_Aug/cropped_not_glauc_png\", im_type = \"png\", backend = \"keras\")"
   ]
  },
  {
   "cell_type": "code",
   "execution_count": 7,
   "metadata": {},
   "outputs": [],
   "source": [
    "cropped_discs_glauc = sort(path = \"/Users/karimabedrabbo/Desktop/Ipython_Notebooks_Aug/cropped_glauc_discs_png\", im_type = \"png\", backend = \"keras\")\n",
    "cropped_discs_not_glauc = sort(path = \"/Users/karimabedrabbo/Desktop/Ipython_Notebooks_Aug/cropped_not_glauc_discs_png\", im_type = \"png\", backend = \"keras\")"
   ]
  },
  {
   "cell_type": "code",
   "execution_count": null,
   "metadata": {},
   "outputs": [],
   "source": [
    "cropped_masks_glauc = sort(path = \"/Users/karimabedrabbo/Desktop/Ipython_Notebooks_Aug/cropped_glauc_masks_png\", im_type = \"png\", backend = \"keras\")\n",
    "cropped_masks_not_glauc = sort(path = \"/Users/karimabedrabbo/Desktop/Ipython_Notebooks_Aug/cropped_not_glauc_masks_png\", im_type = \"png\", backend = \"keras\")"
   ]
  },
  {
   "cell_type": "code",
   "execution_count": null,
   "metadata": {},
   "outputs": [],
   "source": [
    "for i in range(len(cropped_masks_glauc)):\n",
    "    cropped_masks_glauc = "
   ]
  },
  {
   "cell_type": "code",
   "execution_count": null,
   "metadata": {},
   "outputs": [],
   "source": []
  }
 ],
 "metadata": {
  "kernelspec": {
   "display_name": "Python 2",
   "language": "python",
   "name": "python2"
  },
  "language_info": {
   "codemirror_mode": {
    "name": "ipython",
    "version": 2
   },
   "file_extension": ".py",
   "mimetype": "text/x-python",
   "name": "python",
   "nbconvert_exporter": "python",
   "pygments_lexer": "ipython2",
   "version": "2.7.14"
  }
 },
 "nbformat": 4,
 "nbformat_minor": 2
}
