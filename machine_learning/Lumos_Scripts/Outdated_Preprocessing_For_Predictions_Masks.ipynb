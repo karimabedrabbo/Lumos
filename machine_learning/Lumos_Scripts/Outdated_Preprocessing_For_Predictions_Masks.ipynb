{
 "cells": [
  {
   "cell_type": "markdown",
   "metadata": {},
   "source": [
    "# PREPROCESSING FOR BLOOD VESSELS AND DISC"
   ]
  },
  {
   "cell_type": "code",
   "execution_count": 29,
   "metadata": {},
   "outputs": [],
   "source": [
    "from keras.applications.inception_v3 import InceptionV3\n",
    "from keras.preprocessing import image\n",
    "from keras.models import Model\n",
    "from keras.layers import Dense, GlobalAveragePooling2D\n",
    "from keras import backend as K\n",
    "import keras\n",
    "import numpy as np\n",
    "from keras.models import Sequential\n",
    "from keras.layers import Dense, Dropout, Activation, Flatten\n",
    "from keras.layers import Conv2D, MaxPooling2D, Lambda\n",
    "from keras.layers import Dense\n",
    "from keras.utils import np_utils\n",
    "from keras.preprocessing.image import ImageDataGenerator\n",
    "from sklearn.preprocessing import LabelEncoder\n",
    "from sklearn.cross_validation import train_test_split\n",
    "import cv2\n",
    "import scipy\n",
    "import os\n",
    "from keras.models import Model\n",
    "from keras.layers.pooling import MaxPooling2D\n",
    "from keras.layers.convolutional import Conv2D\n",
    "from keras.layers.convolutional import Convolution2D, MaxPooling2D, ZeroPadding2D\n",
    "from sklearn.metrics import accuracy_score\n",
    "from sklearn.metrics import confusion_matrix\n",
    "from tensorflow.python.client import device_lib\n",
    "from keras import optimizers\n",
    "import pickle\n",
    "from six.moves import cPickle\n",
    "import os\n",
    "import glob\n",
    "from datetime import datetime\n",
    "#import warnings\n",
    "#warnings.simplefilter('ignore')\n",
    "import scipy as sp\n",
    "import scipy.ndimage\n",
    "import numpy as np\n",
    "import pandas as pd\n",
    "import skimage\n",
    "import skimage.exposure\n",
    "import mahotas as mh\n",
    "from sklearn.cross_validation import KFold\n",
    "from PIL import Image\n",
    "import matplotlib.pyplot as plt\n",
    "import h5py\n",
    "from tqdm import tqdm_notebook\n",
    "from IPython.display import display\n",
    "#from dual_IDG import DualImageDataGenerator\n",
    "from keras.models import Sequential, Model\n",
    "from keras.layers import Dense, Dropout, Activation, Flatten, BatchNormalization, \\\n",
    "    Convolution2D, MaxPooling2D, ZeroPadding2D, Input, Embedding, LSTM, merge, \\\n",
    "    Lambda, UpSampling2D, Deconvolution2D, Cropping2D\n",
    "from keras.utils import np_utils\n",
    "from keras.optimizers import SGD, Adam\n",
    "from keras.callbacks import ModelCheckpoint, LearningRateScheduler, ReduceLROnPlateau, CSVLogger\n",
    "from keras.preprocessing.image import ImageDataGenerator\n",
    "from keras import backend as K\n",
    "from scipy.misc import toimage\n",
    "from scipy import misc\n",
    "import tensorflow as tf\n",
    "from skimage import color\n",
    "from skimage import io\n",
    "import glob"
   ]
  },
  {
   "cell_type": "code",
   "execution_count": 30,
   "metadata": {},
   "outputs": [
    {
     "data": {
      "text/plain": [
       "'\\narr = arr.astype(\\'float\\')\\narr /= 255\\narr = np.expand_dims(arr, axis=0)\\npred = model.predict(arr, verbose=1)\\npred = np.reshape(pred, (256,256))\\noutput = toimage(pred)\\noutput.show()\\noutput.save(\"prediction.jpg\")\\n'"
      ]
     },
     "execution_count": 30,
     "metadata": {},
     "output_type": "execute_result"
    }
   ],
   "source": [
    "\"\"\"\n",
    "files = glob.glob('/YOUR/PATH/*')\n",
    "for f in files:\n",
    "    os.remove(f)\n",
    "#img = image.load_img('/Users/karimabedrabbo/Desktop/Originals/NoGlauc127.jpg', target_size=(256, 256, 3))\n",
    "img = image.load_img('/Users/karimabedrabbo/caffe/DRIU/Images/ORIGINALS_NEW_GLAUCOMA/3.jpg')\n",
    "img.save(\"/Users/karimabedrabbo/caffe/DRIU/Images/TEST/original.jpg\")\n",
    "arr = np.array(img)\n",
    "arr = cv2.cvtColor(arr, cv2.COLOR_BGR2GRAY)\n",
    "arr = np.stack((arr,)*3, axis=-1)\n",
    "\n",
    "#arr = cv2.GaussianBlur(arr, (3, 3), 0)\n",
    "lab= cv2.cvtColor(arr, cv2.COLOR_BGR2LAB)\n",
    "l, a, b = cv2.split(lab)\n",
    "clahe = cv2.createCLAHE(clipLimit=2, tileGridSize=(8,8))\n",
    "cl = clahe.apply(l)\n",
    "limg = cv2.merge((cl,a,b))\n",
    "arr = cv2.cvtColor(limg, cv2.COLOR_LAB2BGR)\n",
    "\n",
    "temp = toimage(arr)\n",
    "temp.save(\"/Users/karimabedrabbo/caffe/DRIU/Images/TEST/crap.jpg\")\n",
    "\"\"\"\n",
    "\"\"\"\n",
    "arr = arr.astype('float')\n",
    "arr /= 255\n",
    "arr = np.expand_dims(arr, axis=0)\n",
    "pred = model.predict(arr, verbose=1)\n",
    "pred = np.reshape(pred, (256,256))\n",
    "output = toimage(pred)\n",
    "output.show()\n",
    "output.save(\"prediction.jpg\")\n",
    "\"\"\""
   ]
  },
  {
   "cell_type": "code",
   "execution_count": 31,
   "metadata": {},
   "outputs": [
    {
     "name": "stderr",
     "output_type": "stream",
     "text": [
      "/Library/Frameworks/Python.framework/Versions/2.7/lib/python2.7/site-packages/ipykernel_launcher.py:13: DeprecationWarning: `toimage` is deprecated!\n",
      "`toimage` is deprecated in SciPy 1.0.0, and will be removed in 1.2.0.\n",
      "Use Pillow's ``Image.fromarray`` directly instead.\n",
      "  del sys.path[0]\n"
     ]
    }
   ],
   "source": [
    "for j in range(2,32,2):\n",
    "    for i in range(1,281):\n",
    "        img = image.load_img(\"/Users/karimabedrabbo/caffe/DRIU/Images/ORIGINALS_NEW_GLAUCOMA/\" + str(i) + \".jpg\")\n",
    "        arr = np.array(img)\n",
    "        arr = cv2.cvtColor(arr, cv2.COLOR_BGR2GRAY)\n",
    "        arr = np.stack((arr,)*3, axis=-1)\n",
    "        lab= cv2.cvtColor(arr, cv2.COLOR_BGR2LAB)\n",
    "        l, a, b = cv2.split(lab)\n",
    "        clahe = cv2.createCLAHE(clipLimit=1.0, tileGridSize=(j,j))\n",
    "        cl = clahe.apply(l)\n",
    "        limg = cv2.merge((cl,a,b))\n",
    "        arr = cv2.cvtColor(limg, cv2.COLOR_LAB2BGR)\n",
    "        temp = toimage(arr)\n",
    "        temp.save(\"/Users/karimabedrabbo/caffe/DRIU/Images/1C1G\" + str(j) + \"/\" + str(i) + \".jpg\")"
   ]
  },
  {
   "cell_type": "code",
   "execution_count": 32,
   "metadata": {},
   "outputs": [
    {
     "name": "stderr",
     "output_type": "stream",
     "text": [
      "/Library/Frameworks/Python.framework/Versions/2.7/lib/python2.7/site-packages/ipykernel_launcher.py:13: DeprecationWarning: `toimage` is deprecated!\n",
      "`toimage` is deprecated in SciPy 1.0.0, and will be removed in 1.2.0.\n",
      "Use Pillow's ``Image.fromarray`` directly instead.\n",
      "  del sys.path[0]\n"
     ]
    }
   ],
   "source": [
    "for j in range(2,32,2):\n",
    "    for i in range(1,281):\n",
    "        img = image.load_img(\"/Users/karimabedrabbo/caffe/DRIU/Images/ORIGINALS_NEW_GLAUCOMA/\" + str(i) + \".jpg\")\n",
    "        arr = np.array(img)\n",
    "        arr = cv2.cvtColor(arr, cv2.COLOR_BGR2GRAY)\n",
    "        arr = np.stack((arr,)*3, axis=-1)\n",
    "        lab= cv2.cvtColor(arr, cv2.COLOR_BGR2LAB)\n",
    "        l, a, b = cv2.split(lab)\n",
    "        clahe = cv2.createCLAHE(clipLimit=2.0, tileGridSize=(j,j))\n",
    "        cl = clahe.apply(l)\n",
    "        limg = cv2.merge((cl,a,b))\n",
    "        arr = cv2.cvtColor(limg, cv2.COLOR_LAB2BGR)\n",
    "        temp = toimage(arr)\n",
    "        temp.save(\"/Users/karimabedrabbo/caffe/DRIU/Images/1C2G\" + str(j) + \"/\" + str(i) + \".jpg\")"
   ]
  },
  {
   "cell_type": "code",
   "execution_count": 33,
   "metadata": {},
   "outputs": [
    {
     "name": "stderr",
     "output_type": "stream",
     "text": [
      "/Library/Frameworks/Python.framework/Versions/2.7/lib/python2.7/site-packages/ipykernel_launcher.py:13: DeprecationWarning: `toimage` is deprecated!\n",
      "`toimage` is deprecated in SciPy 1.0.0, and will be removed in 1.2.0.\n",
      "Use Pillow's ``Image.fromarray`` directly instead.\n",
      "  del sys.path[0]\n"
     ]
    }
   ],
   "source": [
    "for j in range(2,32,2):\n",
    "    for i in range(1,1348):\n",
    "        img = image.load_img(\"/Users/karimabedrabbo/caffe/DRIU/Images/ORIGINALS_NEW_NOT_GLAUCOMA/\" + str(i) + \".jpg\")\n",
    "        arr = np.array(img)\n",
    "        arr = cv2.cvtColor(arr, cv2.COLOR_BGR2GRAY)\n",
    "        arr = np.stack((arr,)*3, axis=-1)\n",
    "        lab= cv2.cvtColor(arr, cv2.COLOR_BGR2LAB)\n",
    "        l, a, b = cv2.split(lab)\n",
    "        clahe = cv2.createCLAHE(clipLimit=1.0, tileGridSize=(j,j))\n",
    "        cl = clahe.apply(l)\n",
    "        limg = cv2.merge((cl,a,b))\n",
    "        arr = cv2.cvtColor(limg, cv2.COLOR_LAB2BGR)\n",
    "        temp = toimage(arr)\n",
    "        temp.save(\"/Users/karimabedrabbo/caffe/DRIU/Images/0C1G\" + str(j) + \"/\" + str(i) + \".jpg\")"
   ]
  },
  {
   "cell_type": "code",
   "execution_count": 34,
   "metadata": {},
   "outputs": [
    {
     "name": "stderr",
     "output_type": "stream",
     "text": [
      "/Library/Frameworks/Python.framework/Versions/2.7/lib/python2.7/site-packages/ipykernel_launcher.py:13: DeprecationWarning: `toimage` is deprecated!\n",
      "`toimage` is deprecated in SciPy 1.0.0, and will be removed in 1.2.0.\n",
      "Use Pillow's ``Image.fromarray`` directly instead.\n",
      "  del sys.path[0]\n"
     ]
    }
   ],
   "source": [
    "for j in range(2,32,2):\n",
    "    for i in range(1,1348):\n",
    "        img = image.load_img(\"/Users/karimabedrabbo/caffe/DRIU/Images/ORIGINALS_NEW_NOT_GLAUCOMA/\" + str(i) + \".jpg\")\n",
    "        arr = np.array(img)\n",
    "        arr = cv2.cvtColor(arr, cv2.COLOR_BGR2GRAY)\n",
    "        arr = np.stack((arr,)*3, axis=-1)\n",
    "        lab= cv2.cvtColor(arr, cv2.COLOR_BGR2LAB)\n",
    "        l, a, b = cv2.split(lab)\n",
    "        clahe = cv2.createCLAHE(clipLimit=2.0, tileGridSize=(j,j))\n",
    "        cl = clahe.apply(l)\n",
    "        limg = cv2.merge((cl,a,b))\n",
    "        arr = cv2.cvtColor(limg, cv2.COLOR_LAB2BGR)\n",
    "        temp = toimage(arr)\n",
    "        temp.save(\"/Users/karimabedrabbo/caffe/DRIU/Images/0C2G\" + str(j) + \"/\" + str(i) + \".jpg\")"
   ]
  },
  {
   "cell_type": "code",
   "execution_count": 38,
   "metadata": {},
   "outputs": [
    {
     "name": "stderr",
     "output_type": "stream",
     "text": [
      "/Library/Frameworks/Python.framework/Versions/2.7/lib/python2.7/site-packages/ipykernel_launcher.py:12: DeprecationWarning: `toimage` is deprecated!\n",
      "`toimage` is deprecated in SciPy 1.0.0, and will be removed in 1.2.0.\n",
      "Use Pillow's ``Image.fromarray`` directly instead.\n",
      "  if sys.path[0] == '':\n"
     ]
    }
   ],
   "source": [
    "\"\"\"\n",
    "for i in range(1,1348):\n",
    "    img = image.load_img(\"/Users/karimabedrabbo/caffe/DRIU/Images/ORIGINALS_NEW_NOT_GLAUCOMA/\" + str(i) + \".jpg\")\n",
    "    arr = np.array(img)\n",
    "    arr = cv2.cvtColor(arr, cv2.COLOR_BGR2GRAY)\n",
    "    arr = np.stack((arr,)*3, axis=-1)\n",
    "    lab= cv2.cvtColor(arr, cv2.COLOR_BGR2LAB)\n",
    "    l, a, b = cv2.split(lab)\n",
    "    clahe = cv2.createCLAHE(clipLimit=1.0, tileGridSize=(4,4))\n",
    "    cl = clahe.apply(l)\n",
    "    limg = cv2.merge((cl,a,b))\n",
    "    arr = cv2.cvtColor(limg, cv2.COLOR_LAB2BGR)\n",
    "    temp = toimage(arr)\n",
    "    temp.save(\"/Users/karimabedrabbo/Desktop/NEW_ORIGINALS_NOT_GLAUCOMA_NORMALIZED/\" + str(i) + \".jpg\")\n",
    "\"\"\""
   ]
  },
  {
   "cell_type": "code",
   "execution_count": 42,
   "metadata": {},
   "outputs": [
    {
     "name": "stdout",
     "output_type": "stream",
     "text": [
      "python test.py --folder 0C1G2\n",
      "python test.py --folder 0C1G4\n",
      "python test.py --folder 0C1G6\n",
      "python test.py --folder 0C1G8\n",
      "python test.py --folder 0C1G10\n",
      "python test.py --folder 0C1G12\n",
      "python test.py --folder 0C1G14\n",
      "python test.py --folder 0C1G16\n",
      "python test.py --folder 0C1G18\n",
      "python test.py --folder 0C1G20\n",
      "python test.py --folder 0C1G22\n",
      "python test.py --folder 0C1G24\n",
      "python test.py --folder 0C1G26\n",
      "python test.py --folder 0C1G28\n",
      "python test.py --folder 0C1G30\n",
      "python test.py --folder 0C2G2\n",
      "python test.py --folder 0C2G4\n",
      "python test.py --folder 0C2G6\n",
      "python test.py --folder 0C2G8\n",
      "python test.py --folder 0C2G10\n",
      "python test.py --folder 0C2G12\n",
      "python test.py --folder 0C2G14\n",
      "python test.py --folder 0C2G16\n",
      "python test.py --folder 0C2G18\n",
      "python test.py --folder 0C2G20\n",
      "python test.py --folder 0C2G22\n",
      "python test.py --folder 0C2G24\n",
      "python test.py --folder 0C2G26\n",
      "python test.py --folder 0C2G28\n",
      "python test.py --folder 0C2G30\n",
      "python test.py --folder 1C1G2\n",
      "python test.py --folder 1C1G4\n",
      "python test.py --folder 1C1G6\n",
      "python test.py --folder 1C1G8\n",
      "python test.py --folder 1C1G10\n",
      "python test.py --folder 1C1G12\n",
      "python test.py --folder 1C1G14\n",
      "python test.py --folder 1C1G16\n",
      "python test.py --folder 1C1G18\n",
      "python test.py --folder 1C1G20\n",
      "python test.py --folder 1C1G22\n",
      "python test.py --folder 1C1G24\n",
      "python test.py --folder 1C1G26\n",
      "python test.py --folder 1C1G28\n",
      "python test.py --folder 1C1G30\n",
      "python test.py --folder 1C2G2\n",
      "python test.py --folder 1C2G4\n",
      "python test.py --folder 1C2G6\n",
      "python test.py --folder 1C2G8\n",
      "python test.py --folder 1C2G10\n",
      "python test.py --folder 1C2G12\n",
      "python test.py --folder 1C2G14\n",
      "python test.py --folder 1C2G16\n",
      "python test.py --folder 1C2G18\n",
      "python test.py --folder 1C2G20\n",
      "python test.py --folder 1C2G22\n",
      "python test.py --folder 1C2G24\n",
      "python test.py --folder 1C2G26\n",
      "python test.py --folder 1C2G28\n",
      "python test.py --folder 1C2G30\n"
     ]
    }
   ],
   "source": [
    "for j in range (0,2):\n",
    "    for k in range (1,3):\n",
    "        for i in range(2,32,2):\n",
    "            print(\"python test.py --folder \" + str(j) + \"C\" + str(k) + \"G\" + str(i))"
   ]
  },
  {
   "cell_type": "code",
   "execution_count": null,
   "metadata": {},
   "outputs": [],
   "source": []
  }
 ],
 "metadata": {
  "kernelspec": {
   "display_name": "Python 2",
   "language": "python",
   "name": "python2"
  },
  "language_info": {
   "codemirror_mode": {
    "name": "ipython",
    "version": 2
   },
   "file_extension": ".py",
   "mimetype": "text/x-python",
   "name": "python",
   "nbconvert_exporter": "python",
   "pygments_lexer": "ipython2",
   "version": "2.7.14"
  }
 },
 "nbformat": 4,
 "nbformat_minor": 2
}
